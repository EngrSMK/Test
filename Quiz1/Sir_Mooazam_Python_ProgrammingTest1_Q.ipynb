{
  "nbformat": 4,
  "nbformat_minor": 0,
  "metadata": {
    "colab": {
      "provenance": [],
      "toc_visible": true
    },
    "kernelspec": {
      "name": "python3",
      "display_name": "Python 3"
    },
    "language_info": {
      "name": "python"
    }
  },
  "cells": [
    {
      "cell_type": "markdown",
      "source": [
        "#PYTHON PROGRAMMING TEST 1"
      ],
      "metadata": {
        "id": "dNlFfdAAViu_"
      }
    },
    {
      "cell_type": "code",
      "source": [
        "# Q1) Python program to print all odd numbers in a list.\n",
        "\n",
        "def odd_numbers(numbers):\n",
        "    for num in numbers:\n",
        "        if num % 2 != 0:\n",
        "            print(num)\n",
        "\n",
        "\n",
        "numbers = [0, 1, 2, 3, 4, 5, 6, 7, 8, 9, 10]\n",
        "print(\"Odd numbers in the list:\")\n",
        "odd_numbers(numbers)\n"
      ],
      "metadata": {
        "id": "8IpZajgiV9m4",
        "colab": {
          "base_uri": "https://localhost:8080/"
        },
        "outputId": "f3b93cf5-0242-49a6-db20-2afa6258f467"
      },
      "execution_count": 3,
      "outputs": [
        {
          "output_type": "stream",
          "name": "stdout",
          "text": [
            "Odd numbers in the list:\n",
            "1\n",
            "3\n",
            "5\n",
            "7\n",
            "9\n"
          ]
        }
      ]
    },
    {
      "cell_type": "code",
      "source": [
        "# Q2) Python program to find the sum of list elements.\n",
        "\n",
        "def calculate_sum(list):\n",
        "    sum_of_elements = sum(list)\n",
        "    return sum_of_elements\n",
        "\n",
        "list = [1, 2, 3, 4, 5]\n",
        "sum_of_numbers = calculate_sum(list)\n",
        "print(\"Sum of the list elements:\", sum_of_numbers)\n"
      ],
      "metadata": {
        "colab": {
          "base_uri": "https://localhost:8080/"
        },
        "id": "4NkqYcfH6g4k",
        "outputId": "f5dd7f1f-5ad2-4b9d-8aae-8c8f98a0b182"
      },
      "execution_count": 4,
      "outputs": [
        {
          "output_type": "stream",
          "name": "stdout",
          "text": [
            "Sum of the list elements: 15\n"
          ]
        }
      ]
    },
    {
      "cell_type": "code",
      "source": [
        "# Q3) Python program to reverse a list in two ways.\n",
        "#part a\n",
        "cities = [\"Karachi\", \"Lahore\", \"Islamabad\", \"Peshawar\"]\n",
        "cities = cities[::-1]\n",
        "print(cities)\n",
        "\n",
        "#part b\n",
        "cities = [\"Karachi\", \"Lahore\", \"Islamabad\", \"Peshawar\"]\n",
        "cities.reverse()\n",
        "print(cities)"
      ],
      "metadata": {
        "colab": {
          "base_uri": "https://localhost:8080/"
        },
        "id": "LX6xvdDX_ClV",
        "outputId": "d18b3aec-ef3d-4cf7-c556-d525d9804f3b"
      },
      "execution_count": 5,
      "outputs": [
        {
          "output_type": "stream",
          "name": "stdout",
          "text": [
            "['Peshawar', 'Islamabad', 'Lahore', 'Karachi']\n",
            "['Peshawar', 'Islamabad', 'Lahore', 'Karachi']\n"
          ]
        }
      ]
    },
    {
      "cell_type": "code",
      "source": [
        "# Q4) Python program to find the top two maximum numbers in a list.\n",
        "\n",
        "list2 = [30, 1, 2, 1, 0, 25, 15, 35]\n",
        "list2.sort()\n",
        "print(list2)\n",
        "list2.reverse()\n",
        "print(list2)\n",
        "print(list2[0])\n",
        "print(list2[1])\n"
      ],
      "metadata": {
        "colab": {
          "base_uri": "https://localhost:8080/"
        },
        "id": "FOCQ3EZGAq_6",
        "outputId": "b5e0a8bc-f371-4177-c40b-25dc08dc2d51"
      },
      "execution_count": 5,
      "outputs": [
        {
          "output_type": "stream",
          "name": "stdout",
          "text": [
            "[0, 1, 1, 2, 15, 25, 30, 35]\n",
            "[35, 30, 25, 15, 2, 1, 1, 0]\n",
            "35\n",
            "30\n"
          ]
        }
      ]
    },
    {
      "cell_type": "code",
      "source": [
        "# Q5) Write a program in Python to find the second highest number in an integer list.\n",
        "\n",
        "list = [30, 1, 2, 1, 0, 25, 15, 35]\n",
        "list.sort()\n",
        "print(list)\n",
        "list = list[-2]\n",
        "print(list)"
      ],
      "metadata": {
        "colab": {
          "base_uri": "https://localhost:8080/"
        },
        "id": "92gRHaCPA5-h",
        "outputId": "607b7b03-3103-4924-9cbf-a684cc605ade"
      },
      "execution_count": 19,
      "outputs": [
        {
          "output_type": "stream",
          "name": "stdout",
          "text": [
            "[0, 1, 1, 2, 15, 25, 30, 35]\n",
            "30\n"
          ]
        }
      ]
    },
    {
      "cell_type": "code",
      "source": [
        "#Q6) Python program to sort characters in descending order.\n",
        "\n",
        "list1 = [30, 1, 2, 1, 0, 25, 15, 35]\n",
        "list1.sort()\n",
        "print(list1)\n",
        "list1.reverse()\n",
        "print(list1)"
      ],
      "metadata": {
        "colab": {
          "base_uri": "https://localhost:8080/"
        },
        "id": "mxX8BvSCDbOV",
        "outputId": "12d13847-54cb-4928-a679-6ee5f260ae74"
      },
      "execution_count": 13,
      "outputs": [
        {
          "output_type": "stream",
          "name": "stdout",
          "text": [
            "[0, 1, 1, 2, 15, 25, 30, 35]\n",
            "[35, 30, 25, 15, 2, 1, 1, 0]\n"
          ]
        }
      ]
    },
    {
      "cell_type": "code",
      "source": [
        "# Q7) Python program to remove repeated characters from a string.\n",
        "\n",
        "def repeated_characters_removal(string):\n",
        "    unique_characters = set()\n",
        "\n",
        "    result = []\n",
        "\n",
        "    for char in string:\n",
        "        if char not in unique_characters:\n",
        "            unique_characters.add(char)\n",
        "            result.append(char)\n",
        "\n",
        "    cleaned_string = ''.join(result)\n",
        "\n",
        "    return cleaned_string\n",
        "\n",
        "input_string = input(\"Enter a string: \")\n",
        "cleaned_string = repeated_characters_removal(input_string)\n",
        "print(\"String with repeated characters removed:\", cleaned_string)\n"
      ],
      "metadata": {
        "colab": {
          "base_uri": "https://localhost:8080/"
        },
        "id": "E8ipkSwkEn8Z",
        "outputId": "4a2b18b9-cfa6-4bd0-95d7-1d246f99dff4"
      },
      "execution_count": 10,
      "outputs": [
        {
          "output_type": "stream",
          "name": "stdout",
          "text": [
            "Enter a string: ABCDEAABGEFIUGHIAZ\n",
            "String with repeated characters removed: ABCDEGFIUHZ\n"
          ]
        }
      ]
    },
    {
      "cell_type": "code",
      "source": [
        "# Q8) Python program to check if a given character is a vowel or consonant.\n",
        "\n",
        "vowels = 'aeiou'\n",
        "v = input(\"Please enter any single alphbet in small letter:\")\n",
        "\n",
        "if v in vowels:\n",
        "  print(\"Your alphabet is a vowel\")\n",
        "else:\n",
        "  print(\"Your alphabet is a consonant\")\n"
      ],
      "metadata": {
        "colab": {
          "base_uri": "https://localhost:8080/"
        },
        "id": "nEwCsM9QGjgo",
        "outputId": "587c6da9-2881-438c-c5ce-11ac70d43c54"
      },
      "execution_count": 17,
      "outputs": [
        {
          "output_type": "stream",
          "name": "stdout",
          "text": [
            "Please enter any single alphbet in small letter:g\n",
            "Your alphabet is a consonant\n"
          ]
        }
      ]
    },
    {
      "cell_type": "code",
      "source": [
        "# Q9) Python Program to calculate factorial.\n",
        "\n",
        "def factorial(num):\n",
        "  fact = 1\n",
        "  for i in range(1,num+1):\n",
        "    fact = fact * i\n",
        "  print(fact)\n",
        "\n",
        "factorial(4)"
      ],
      "metadata": {
        "colab": {
          "base_uri": "https://localhost:8080/"
        },
        "id": "cHrDgxhFJpgh",
        "outputId": "da82045d-e87d-4b65-8938-16251c922d87"
      },
      "execution_count": 12,
      "outputs": [
        {
          "output_type": "stream",
          "name": "stdout",
          "text": [
            "24\n"
          ]
        }
      ]
    },
    {
      "cell_type": "code",
      "source": [
        "# Q10) Python Program to merge two lists.\n",
        "\n",
        "lista = [1,2,3,4,5]\n",
        "listb = [2,3,4,5,6]\n",
        "print(lista+listb)"
      ],
      "metadata": {
        "colab": {
          "base_uri": "https://localhost:8080/"
        },
        "id": "YoUfcYt-RJMg",
        "outputId": "8b7a19c8-2bd0-4fd1-ffab-55bf056f5c18"
      },
      "execution_count": 14,
      "outputs": [
        {
          "output_type": "stream",
          "name": "stdout",
          "text": [
            "[1, 2, 3, 4, 5, 2, 3, 4, 5, 6]\n"
          ]
        }
      ]
    },
    {
      "cell_type": "code",
      "source": [],
      "metadata": {
        "id": "bFPoiIhmSuKe"
      },
      "execution_count": null,
      "outputs": []
    }
  ]
}